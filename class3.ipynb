{
 "cells": [
  {
   "cell_type": "code",
   "execution_count": 3,
   "metadata": {},
   "outputs": [
    {
     "name": "stdout",
     "output_type": "stream",
     "text": [
      "2\n"
     ]
    }
   ],
   "source": [
    "# First qs\n",
    "user_input = input(\"Enter any word\")\n",
    "spli = user_input.split()\n",
    "count = 0\n",
    "vowels = set('aeiou')\n",
    "for i in spli:\n",
    "    if any(char in vowels for char in vowels):\n",
    "        count += 1\n",
    "print(count)"
   ]
  },
  {
   "cell_type": "code",
   "execution_count": 6,
   "metadata": {},
   "outputs": [
    {
     "name": "stdout",
     "output_type": "stream",
     "text": [
      "2 8 2 4\n"
     ]
    }
   ],
   "source": [
    "user_input = input(\"Enter any word = \")\n",
    "ucase = 0\n",
    "lcase = 0\n",
    "wspace = 0\n",
    "digits = 0\n",
    "for i in user_input:\n",
    "    if i.isupper():\n",
    "        ucase += 1\n",
    "    if i.islower():\n",
    "        lcase += 1\n",
    "    if i.isspace():\n",
    "        wspace += 1\n",
    "    if i.isdigit():\n",
    "        digits += 1\n",
    "\n",
    "print(ucase,lcase,wspace,digits)"
   ]
  },
  {
   "cell_type": "code",
   "execution_count": 14,
   "metadata": {},
   "outputs": [
    {
     "name": "stdout",
     "output_type": "stream",
     "text": [
      "M\n",
      "i\n",
      "iehdM\n"
     ]
    }
   ],
   "source": [
    "user_input = input(\"Enter the letter = \")\n",
    "first_letter = user_input[0]\n",
    "last_letter = user_input[-1]\n",
    "end = last_letter + user_input[1:-1] + first_letter\n",
    "print(first_letter)\n",
    "print(last_letter)\n",
    "print(end)"
   ]
  },
  {
   "cell_type": "code",
   "execution_count": 16,
   "metadata": {},
   "outputs": [
    {
     "name": "stdout",
     "output_type": "stream",
     "text": [
      "maxE\n"
     ]
    }
   ],
   "source": [
    "user_input = input(\"Enter the letter = \")\n",
    "user_input = user_input[::-1]\n",
    "print(user_input)"
   ]
  },
  {
   "cell_type": "code",
   "execution_count": 17,
   "metadata": {},
   "outputs": [
    {
     "name": "stdout",
     "output_type": "stream",
     "text": [
      "Ehdi AbbasM\n"
     ]
    }
   ],
   "source": [
    "user_input = input(\"Enter the letter\").strip(' ')\n",
    "first_letter = user_input[0]\n",
    "end = user_input[1:] + first_letter\n",
    "print(end)"
   ]
  },
  {
   "cell_type": "code",
   "execution_count": 20,
   "metadata": {},
   "outputs": [
    {
     "name": "stdout",
     "output_type": "stream",
     "text": [
      "S. M. A.\n"
     ]
    }
   ],
   "source": [
    "user_input = input(\"Enter your full name: \")\n",
    "initials = \"\"\n",
    "\n",
    "\n",
    "for i in range(len(user_input)):\n",
    "    \n",
    "    if i == 0 or user_input[i-1] == \" \":\n",
    "        initials += user_input[i].upper() + \". \"\n",
    "\n",
    "\n",
    "initials = initials.strip()\n",
    "\n",
    "print(initials)\n"
   ]
  },
  {
   "cell_type": "code",
   "execution_count": 24,
   "metadata": {},
   "outputs": [
    {
     "name": "stdout",
     "output_type": "stream",
     "text": [
      "True\n"
     ]
    }
   ],
   "source": [
    "user_input = input(\"Enter the name = \")\n",
    "if user_input == user_input[::-1]:\n",
    "    print(True)\n",
    "else:\n",
    "    print(False)"
   ]
  },
  {
   "cell_type": "code",
   "execution_count": 1,
   "metadata": {},
   "outputs": [
    {
     "name": "stdout",
     "output_type": "stream",
     "text": [
      "SHIFT\n",
      "HIFTS\n",
      "IFTSH\n",
      "FTSHI\n",
      "TSHIF\n",
      "SHIFT\n"
     ]
    }
   ],
   "source": [
    "text = \"SHIFT\"\n",
    "for i in range(len(text)):\n",
    "    print(text[i:] + text[:i])\n",
    "print(text)\n"
   ]
  },
  {
   "cell_type": "code",
   "execution_count": 7,
   "metadata": {},
   "outputs": [
    {
     "name": "stdout",
     "output_type": "stream",
     "text": [
      "Password should be at least 8 characters long\n",
      "Password should contain at least one uppercase letter, one lowercase letter, and one digit\n",
      "Password accepted!\n"
     ]
    }
   ],
   "source": [
    "flag = False\n",
    "\n",
    "while not flag:\n",
    "    password = input(\"Enter your password: \")\n",
    "    \n",
    "    if len(password) < 8:\n",
    "        print(\"Password should be at least 8 characters long\")\n",
    "        continue  \n",
    "    ucase = any(char.isupper() for char in password)\n",
    "    lcase = any(char.islower() for char in password)\n",
    "    numdig = any(char.isdigit() for char in password)\n",
    "\n",
    "    if ucase and lcase and numdig:\n",
    "        flag = True\n",
    "    else:\n",
    "        print(\"Password should contain at least one uppercase letter, one lowercase letter, and one digit\")\n",
    "\n",
    "print(\"Password accepted!\")\n"
   ]
  },
  {
   "cell_type": "code",
   "execution_count": null,
   "metadata": {},
   "outputs": [],
   "source": []
  }
 ],
 "metadata": {
  "kernelspec": {
   "display_name": "base",
   "language": "python",
   "name": "python3"
  },
  "language_info": {
   "codemirror_mode": {
    "name": "ipython",
    "version": 3
   },
   "file_extension": ".py",
   "mimetype": "text/x-python",
   "name": "python",
   "nbconvert_exporter": "python",
   "pygments_lexer": "ipython3",
   "version": "3.11.5"
  }
 },
 "nbformat": 4,
 "nbformat_minor": 2
}
