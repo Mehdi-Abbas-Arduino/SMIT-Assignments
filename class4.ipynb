{
 "cells": [
  {
   "cell_type": "code",
   "execution_count": 2,
   "metadata": {},
   "outputs": [
    {
     "name": "stdout",
     "output_type": "stream",
     "text": [
      "India\n",
      "Bangladesh\n",
      "Pakistan\n",
      "China\n"
     ]
    }
   ],
   "source": [
    "countries = []\n",
    "for i in range(4):\n",
    "    countries.append(input(\"Enter Your country name = \"))\n",
    "\n",
    "for i in countries:\n",
    "    print(i)"
   ]
  },
  {
   "cell_type": "code",
   "execution_count": 3,
   "metadata": {},
   "outputs": [
    {
     "name": "stdout",
     "output_type": "stream",
     "text": [
      "['india', 'china', 'pakistan', 'korea']\n"
     ]
    }
   ],
   "source": [
    "countries = []\n",
    "for i in range(4):\n",
    "    countries.append(input(\"Enter Your country name = \"))\n",
    "\n",
    "x = countries[::-1]\n",
    "print(x)"
   ]
  },
  {
   "cell_type": "code",
   "execution_count": 4,
   "metadata": {},
   "outputs": [],
   "source": [
    "lis = [2,1,4,5,8,6,1,0,1,7,1,10,155645]"
   ]
  },
  {
   "cell_type": "code",
   "execution_count": 5,
   "metadata": {},
   "outputs": [
    {
     "name": "stdout",
     "output_type": "stream",
     "text": [
      "155645\n"
     ]
    }
   ],
   "source": [
    "max_num = 0\n",
    "for i in lis:\n",
    "    if i > max_num:\n",
    "        max_num = i\n",
    "\n",
    "print(max_num)"
   ]
  },
  {
   "cell_type": "code",
   "execution_count": 7,
   "metadata": {},
   "outputs": [
    {
     "name": "stdout",
     "output_type": "stream",
     "text": [
      "[5, 1, 2, 3, 4]\n"
     ]
    }
   ],
   "source": [
    "my_list = [1, 2, 3, 4, 5]\n",
    "rotated_list = my_list[-1:] + my_list[:-1]\n",
    "print(rotated_list)"
   ]
  },
  {
   "cell_type": "code",
   "execution_count": 1,
   "metadata": {},
   "outputs": [
    {
     "name": "stdout",
     "output_type": "stream",
     "text": [
      "['M', 'e', 'h', 'd', 'i']\n",
      "The letter 'e' has been deleted\n",
      "Final name: Mhdi\n"
     ]
    }
   ],
   "source": [
    "# Take input from the user\n",
    "name = input(\"Enter a name: \")\n",
    "\n",
    "# Convert the name to a list of characters\n",
    "letters = list(name)\n",
    "print(letters)\n",
    "\n",
    "# Prompt user for the letter they want to delete\n",
    "delete = input(\"Which letter do you want to delete from it? \")\n",
    "\n",
    "# Loop until the letter is found in the list\n",
    "while delete not in letters:\n",
    "    print(\"Letter is not in the list\")\n",
    "    delete = input(\"Which letter do you want to delete from it? \")\n",
    "\n",
    "# Remove all occurrences of the letter from the list\n",
    "while delete in letters:\n",
    "    letters.remove(delete)\n",
    "    print(f\"The letter '{delete}' has been deleted\")\n",
    "\n",
    "# Join the list back into a string\n",
    "result = \"\".join(letters)\n",
    "\n",
    "# Print the final result\n",
    "print(\"Final name:\", result)\n",
    "\n"
   ]
  },
  {
   "cell_type": "code",
   "execution_count": 3,
   "metadata": {},
   "outputs": [
    {
     "name": "stdout",
     "output_type": "stream",
     "text": [
      " March  3, 2008\n"
     ]
    }
   ],
   "source": [
    "month = input(\"Enter the month = \")\n",
    "day = int(input(\"Enter the day = \"))\n",
    "year = int(input(\"Enter the year\"))\n",
    "\n",
    "date = f\" {month}{str(day)}, {str(year)}\"\n",
    "print(date)"
   ]
  },
  {
   "cell_type": "code",
   "execution_count": 8,
   "metadata": {},
   "outputs": [
    {
     "name": "stdout",
     "output_type": "stream",
     "text": [
      "Stop And Smell Roses\n"
     ]
    }
   ],
   "source": [
    "sentence = input(\"Enter the sentence = \")\n",
    "sentence = sentence.split()  \n",
    "capitalized_words = []  \n",
    "\n",
    "for i in sentence:\n",
    "    capitalized_words.append(i.capitalize())  \n",
    "\n",
    "result = ' '.join(capitalized_words)  \n",
    "print(result)  "
   ]
  },
  {
   "cell_type": "code",
   "execution_count": 11,
   "metadata": {},
   "outputs": [
    {
     "name": "stdout",
     "output_type": "stream",
     "text": [
      "Total of Row 1 32\n",
      "Total of row 2 31\n",
      "Total of row 3 63\n"
     ]
    }
   ],
   "source": [
    "a = [2,11,7,12]\n",
    "b = [5,2,9,15]\n",
    "c = [8,3,10,42]\n",
    "total = 0\n",
    "for i in a:\n",
    "    total = total + i\n",
    "print(f\"Total of Row 1 {total}\")\n",
    "total = 0\n",
    "for i in b :\n",
    "    total = total + i\n",
    "print(f\"Total of row 2 {total}\")\n",
    "total = 0\n",
    "for i in c :\n",
    "    total = total + i\n",
    "print(f\"Total of row 3 {total}\")"
   ]
  },
  {
   "cell_type": "code",
   "execution_count": 13,
   "metadata": {},
   "outputs": [
    {
     "name": "stdout",
     "output_type": "stream",
     "text": [
      "126\n"
     ]
    }
   ],
   "source": [
    "n = 3 \n",
    "m = 4\n",
    "matrix = [\n",
    "    [2,11,7,12],\n",
    "    [5,2,9,15],\n",
    "    [8,3,10,42],\n",
    "    ]\n",
    "# result_matrix = []\n",
    "result = 0\n",
    "for i in range(n):\n",
    "    for y in range(m):\n",
    "        result += matrix[i][y]\n",
    "print(result)"
   ]
  },
  {
   "cell_type": "code",
   "execution_count": 15,
   "metadata": {},
   "outputs": [
    {
     "name": "stdout",
     "output_type": "stream",
     "text": [
      "25147584000\n"
     ]
    }
   ],
   "source": [
    "n = 3 \n",
    "m = 4\n",
    "matrix = [\n",
    "    [2,11,7,12],\n",
    "    [5,2,9,15],\n",
    "    [8,3,10,42],\n",
    "    ]\n",
    "\n",
    "result = 1\n",
    "for i in range(n):\n",
    "    for y in range(m):\n",
    "        result *= matrix[i][y]\n",
    "print(result)"
   ]
  },
  {
   "cell_type": "code",
   "execution_count": null,
   "metadata": {},
   "outputs": [],
   "source": []
  }
 ],
 "metadata": {
  "kernelspec": {
   "display_name": "base",
   "language": "python",
   "name": "python3"
  },
  "language_info": {
   "codemirror_mode": {
    "name": "ipython",
    "version": 3
   },
   "file_extension": ".py",
   "mimetype": "text/x-python",
   "name": "python",
   "nbconvert_exporter": "python",
   "pygments_lexer": "ipython3",
   "version": "3.11.5"
  }
 },
 "nbformat": 4,
 "nbformat_minor": 2
}
